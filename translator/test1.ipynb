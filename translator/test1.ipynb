{
 "cells": [
  {
   "cell_type": "code",
   "execution_count": 2,
   "metadata": {},
   "outputs": [],
   "source": [
    "from owlready2 import *\n"
   ]
  },
  {
   "cell_type": "code",
   "execution_count": 3,
   "metadata": {},
   "outputs": [],
   "source": [
    "#PascalCase\n",
    "def to_pascal_case(text):\n",
    "    text = text.replace('_', ' ').replace('-', ' ')\n",
    "    words = text.split()\n",
    "    return ''.join([word.capitalize() for word in words])\n",
    "#camelCase\n",
    "def to_camel_case(prop_name):\n",
    "    words = prop_name.replace(\"_\", \" \").split()\n",
    "    return words[0].lower() + \"\".join(word.capitalize() for word in words[1:]) if words else \"\""
   ]
  },
  {
   "cell_type": "code",
   "execution_count": 140,
   "metadata": {},
   "outputs": [],
   "source": [
    "#rdf to puml\n",
    "def rdf_to_puml(input_rdf, output_puml):\n",
    "    data = get_ontology(input_rdf).load()\n",
    "    iofcore = get_namespace(\"https://spec.industrialontologies.org/ontology/core/Core/\")\n",
    "    bfo = get_namespace(\"http://purl.obolibrary.org/obo/\")\n",
    "    \n",
    "    classes = {}\n",
    "    individuals = {}\n",
    "    properties = []\n",
    "\n",
    "    for ind in data.individuals():\n",
    "        individuals[ind.name] = ind\n",
    "        if ind.is_a:\n",
    "            for ind_type in ind.is_a:\n",
    "                try:\n",
    "                    ns = bfo if ind_type.name.startswith(\"BFO\") else iofcore\n",
    "                    class_label = to_pascal_case(ns[ind_type.name].label[0])\n",
    "                    classes[class_label] = ind_type\n",
    "                    properties.append((ind, \"typeOf\", class_label))\n",
    "                except:\n",
    "                    continue\n",
    "        \n",
    "        for prop in ind.get_properties():\n",
    "            for value in prop[ind]:\n",
    "                ns = bfo if prop.name.startswith(\"BFO\") else iofcore\n",
    "                properties.append((ind, to_camel_case(ns[prop.name].label[0]), value))\n",
    "    print('classes',classes,'\\n', 'individuals',individuals,'\\n', properties)\n",
    "\n",
    "    with open(output_puml, \"w\") as f:\n",
    "        f.write(\"@startuml\\n\")\n",
    "        f.write(\"!include https://raw.githubusercontent.com/iofoundry/ontopuml/main/iof.iuml\\n\")\n",
    "\n",
    "        # Declare classes first with appropriate prefixes\n",
    "        class_map = {}\n",
    "        for idx, (cls_label, cls) in enumerate(classes.items(), start=1):\n",
    "            ns_prefix = \"bfo:\" if cls.name.startswith(\"BFO\") else \"iof:\"\n",
    "            formatted_label = f\"{ns_prefix}{cls_label}\"\n",
    "            class_map[cls_label] = f\"c{idx}\"\n",
    "            f.write(f\"class({class_map[cls_label]}, {formatted_label})\\n\")\n",
    "\n",
    "        # Declare individuals with ns1: prefix\n",
    "        individual_map = {}\n",
    "        for idx, (ind_name, ind) in enumerate(individuals.items(), start=1):\n",
    "            individual_map[ind_name] = f\"i{idx}\"\n",
    "            f.write(f\"individual({individual_map[ind_name]}, ns1:{ind_name})\\n\")\n",
    "\n",
    "        # Add typeOf relationships\n",
    "        for s, p, o in properties:\n",
    "            if p == \"typeOf\" and o in class_map:\n",
    "                f.write(f\"typeOf({individual_map[s.name]}, {class_map[o]})\\n\")\n",
    "\n",
    "        # Add properties\n",
    "        for s, p, o in properties:\n",
    "            if p != \"typeOf\" and o.name in individual_map:\n",
    "                f.write(f\"property({individual_map[s.name]}, {p}, {individual_map[o.name]})\\n\")\n",
    "\n",
    "        f.write(\"@enduml\\n\")"
   ]
  },
  {
   "cell_type": "code",
   "execution_count": 141,
   "metadata": {},
   "outputs": [
    {
     "name": "stdout",
     "output_type": "stream",
     "text": [
      "classes {'MaterialArtifact': Core.MaterialArtifact, 'Process': obo.BFO_0000015, 'Quality': obo.BFO_0000019} \n",
      " individuals {'artifact1': object-graph-1.artifact1, 'process1': object-graph-1.process1, 'length1': object-graph-1.length1} \n",
      " [(object-graph-1.artifact1, 'typeOf', 'MaterialArtifact'), (object-graph-1.artifact1, 'participatesIn', object-graph-1.process1), (object-graph-1.artifact1, 'bearerOf', object-graph-1.length1), (object-graph-1.process1, 'typeOf', 'Process'), (object-graph-1.process1, 'hasParticipant', object-graph-1.artifact1), (object-graph-1.length1, 'typeOf', 'Quality'), (object-graph-1.length1, 'inheresIn', object-graph-1.artifact1)]\n",
      "PUML file saved as output1.puml\n"
     ]
    }
   ],
   "source": [
    "if __name__ == \"__main__\":\n",
    "    input_rdf = \"../sample/object-graph-1.rdf\" \n",
    "    output_puml = \"output1.puml\"\n",
    "    rdf_to_puml(input_rdf, output_puml)\n",
    "    print(f\"PUML file saved as {output_puml}\")\n"
   ]
  },
  {
   "cell_type": "code",
   "execution_count": null,
   "metadata": {},
   "outputs": [
    {
     "name": "stdout",
     "output_type": "stream",
     "text": [
      "[obo.BFO_0000015 & (obo.BFO_0000199.some(obo.BFO_0000202 & (Core.meets.some(obo.BFO_0000202 & Inverse(obo.BFO_0000108).some(obo.BFO_0000023)) | Core.temporallyOverlaps.some(obo.BFO_0000202 & Inverse(obo.BFO_0000108).some(obo.BFO_0000023)) | Core.temporallyStarts.some(obo.BFO_0000202 & Inverse(obo.BFO_0000108).some(obo.BFO_0000023)))) & Core.hasOutput.some(obo.BFO_0000023)) & obo.BFO_0000167.some(obo.BFO_0000004 & Not(obo.BFO_0000006))] <class 'owlready2.class_construct.And'>\n",
      "1 processing Core.GainOfRole\n",
      "['!include https://raw.githubusercontent.com/iofoundry/ontopuml/main/iof.iuml', 'class(c1, iof:GainOfRole)']\n"
     ]
    },
    {
     "ename": "TypeError",
     "evalue": "'And' object is not iterable",
     "output_type": "error",
     "traceback": [
      "\u001b[0;31m---------------------------------------------------------------------------\u001b[0m",
      "\u001b[0;31mTypeError\u001b[0m                                 Traceback (most recent call last)",
      "Cell \u001b[0;32mIn[319], line 139\u001b[0m\n\u001b[1;32m    137\u001b[0m iofonto \u001b[38;5;241m=\u001b[39m get_ontology(\u001b[38;5;124m\"\u001b[39m\u001b[38;5;124mhttps://spec.industrialontologies.org/ontology/core/Core/\u001b[39m\u001b[38;5;124m\"\u001b[39m)\u001b[38;5;241m.\u001b[39mload()\n\u001b[1;32m    138\u001b[0m \u001b[38;5;66;03m# axiom_result = axiom_to_puml(iofonto[\"ProcuringBusinessProcess\"])\u001b[39;00m\n\u001b[0;32m--> 139\u001b[0m axiom_result \u001b[38;5;241m=\u001b[39m \u001b[43maxiom_to_puml\u001b[49m\u001b[43m(\u001b[49m\u001b[43miofonto\u001b[49m\u001b[43m[\u001b[49m\u001b[38;5;28;43minput\u001b[39;49m\u001b[43m]\u001b[49m\u001b[43m)\u001b[49m\n\u001b[1;32m    140\u001b[0m \u001b[38;5;28mprint\u001b[39m(axiom_result)\n",
      "Cell \u001b[0;32mIn[319], line 123\u001b[0m, in \u001b[0;36maxiom_to_puml\u001b[0;34m(class_entity)\u001b[0m\n\u001b[1;32m    121\u001b[0m axiom \u001b[38;5;241m=\u001b[39m class_entity\u001b[38;5;241m.\u001b[39mequivalent_to[\u001b[38;5;241m0\u001b[39m]\n\u001b[1;32m    122\u001b[0m main_class_name \u001b[38;5;241m=\u001b[39m get_class_name(class_entity)\n\u001b[0;32m--> 123\u001b[0m processed_parts \u001b[38;5;241m=\u001b[39m [get_class_name(part) \u001b[38;5;28;01mfor\u001b[39;00m part \u001b[38;5;129;01min\u001b[39;00m axiom]\n\u001b[1;32m    124\u001b[0m \u001b[38;5;66;03m#change from classes to axiom and let the func figure it out\u001b[39;00m\n\u001b[1;32m    125\u001b[0m \u001b[38;5;28mprint\u001b[39m(processed_parts)\n",
      "\u001b[0;31mTypeError\u001b[0m: 'And' object is not iterable"
     ]
    }
   ],
   "source": [
    "#Axiom to PUML\n",
    "from owlready2 import *\n",
    "\n",
    "def axiom_to_puml(class_entity):\n",
    "    bfo = get_namespace(\"http://purl.obolibrary.org/obo/\")\n",
    "    iofcore = get_namespace(\"https://spec.industrialontologies.org/ontology/core/Core/\")\n",
    "    \"\"\"Converts an OWL equivalent class axiom to PUML notation.\"\"\"\n",
    "    puml_output = []\n",
    "    puml_output.append(\"!include https://raw.githubusercontent.com/iofoundry/ontopuml/main/iof.iuml\")\n",
    "    class_map = {}\n",
    "    counter = 1\n",
    "\n",
    "    def get_class_name(entity):\n",
    "        \"\"\"Extracts and maps class names with proper prefixes.\"\"\"\n",
    "        nonlocal counter\n",
    "        if isinstance(entity, ThingClass):\n",
    "            print(counter, 'processing', entity)\n",
    "            prefix = \"bfo:\" if \"BFO\" in str(entity) else \"iof:\"\n",
    "            class_name = entity.name\n",
    "            if class_name not in class_map:\n",
    "                class_map[class_name] = f\"c{counter}\"\n",
    "                puml_output.append(f'class({class_map[class_name]}, {prefix}{to_camel_case(bfo[entity.name].label[0]) if class_name.startswith(\"BFO\") else class_name})')\n",
    "                counter += 1\n",
    "            print(puml_output)\n",
    "            return class_map[class_name]\n",
    "\n",
    "        elif isinstance(entity, Restriction):\n",
    "            if isinstance(entity.property, Inverse):    \n",
    "                print(counter)\n",
    "                print('Restriction', entity)\n",
    "                prefix = \"bfo:\" if \"BFO\" in str(entity) else \"iof:\"\n",
    "                prop_name = prefix + to_camel_case(bfo[entity.property.property.name].label[0]) if entity.property.property.name.startswith(\"BFO\") else to_camel_case(iofcore[entity.property.name].label[0])\n",
    "                print('Res Propname',prop_name)\n",
    "                return process_restriction(entity, prop_name)\n",
    "            else:\n",
    "                print(counter)\n",
    "                print('Restriction', entity)\n",
    "                prefix = \"bfo:\" if \"BFO\" in str(entity) else \"iof:\"\n",
    "                prop_name = prefix + to_camel_case(bfo[entity.property.name].label[0]) if entity.property.name.startswith(\"BFO\") else to_camel_case(iofcore[entity.property.name].label[0])\n",
    "                print('Res Propname',prop_name)\n",
    "                return process_restriction(entity, prop_name)\n",
    "        \n",
    "        elif isinstance(entity, And): \n",
    "            print('And', entity)\n",
    "            prefix = \"bfo:\" if \"BFO\" in str(entity) else \"iof:\"\n",
    "            prop_name = None\n",
    "            return process_restriction(entity, prop_name)\n",
    "        \n",
    "        elif isinstance(entity, Or): \n",
    "            print('Or', entity)\n",
    "            prefix = \"bfo:\" if \"BFO\" in str(entity) else \"iof:\"\n",
    "            prop_name = None\n",
    "            return process_restriction(entity, prop_name)\n",
    "        \n",
    "        elif isinstance(entity, Not):\n",
    "            return \n",
    "        \n",
    "        elif isinstance(entity, Inverse):\n",
    "            print('Inverse', entity.property)\n",
    "            return\n",
    "\n",
    "        else:\n",
    "            print('error',entity)\n",
    "            raise ValueError(f\"Unsupported entity type: {type(entity)}\")\n",
    "\n",
    "    def process_restriction(restriction, prop_name):\n",
    "        \"\"\"Handles OWL 'some' restrictions including unions inside.\"\"\"\n",
    "        nonlocal counter\n",
    "        if isinstance(restriction, And):\n",
    "            print('and', restriction)\n",
    "            entities = [get_class_name(e) for e in restriction.Classes]\n",
    "            union_name = f\"ce{counter}\"\n",
    "            entity_list = \", \".join(f'\\\"{e}\\\"' for e in entities)\n",
    "            puml_output.append(f\"intersection({union_name}, '[{entity_list}]')\")\n",
    "            counter += 1\n",
    "            var_name = f\"ce{counter}\"\n",
    "            puml_output.append(f\"some({var_name}, {prop_name}, {union_name})\")\n",
    "            counter += 1\n",
    "            return var_name\n",
    "        \n",
    "        elif isinstance(restriction, Or):\n",
    "            print('and', restriction)\n",
    "            entities = [get_class_name(e) for e in restriction.Classes]\n",
    "            union_name = f\"ce{counter}\"\n",
    "            entity_list = \", \".join(f'\\\"{e}\\\"' for e in entities)\n",
    "            puml_output.append(f\"union({union_name}, '[{entity_list}]')\")\n",
    "            counter += 1\n",
    "            var_name = f\"ce{counter}\"\n",
    "            puml_output.append(f\"some({var_name}, {prop_name}, {union_name})\")\n",
    "            counter += 1\n",
    "            return var_name\n",
    "        \n",
    "\n",
    "        elif isinstance(restriction.value, Or):\n",
    "            print('or', restriction.value)\n",
    "            entities = [get_class_name(e) for e in restriction.value.Classes]\n",
    "            union_name = f\"ce{counter}\"\n",
    "            entity_list = \", \".join(f'\\\"{e}\\\"' for e in entities) \n",
    "            puml_output.append(f\"union({union_name}, '[{entity_list}]')\")\n",
    "            counter += 1\n",
    "            var_name = f\"ce{counter}\"\n",
    "            puml_output.append(f\"some({var_name}, {prop_name}, {union_name})\")\n",
    "            counter += 1\n",
    "            return var_name\n",
    "\n",
    "        else:  \n",
    "            print('restriction else', restriction)\n",
    "            class_name = get_class_name(restriction.value)\n",
    "            var_name = f\"ce{counter}\"\n",
    "            puml_output.append(f\"some({var_name}, {prop_name}, {class_name})\")\n",
    "            counter += 1\n",
    "            print(puml_output)\n",
    "            return var_name\n",
    "    \n",
    "    if len(class_entity.equivalent_to) == 0:\n",
    "        print('class_entity.equivalent_to',class_entity.equivalent_to)\n",
    "        return\n",
    "        \n",
    "    else:\n",
    "        print(class_entity.equivalent_to, type(class_entity.equivalent_to[0]))\n",
    "        axiom = class_entity.equivalent_to[0]\n",
    "        main_class_name = get_class_name(class_entity)\n",
    "        processed_parts = [get_class_name(part) for part in axiom.Classes]\n",
    "        #change from classes to axiom and let the func figure it out\n",
    "        print(processed_parts)\n",
    "\n",
    "        if len(processed_parts) > 1:\n",
    "            final_union = f\"ce{counter}\"\n",
    "            entity_list = \", \".join(f'\"{e}\"' for e in processed_parts)\n",
    "            puml_output.append(f\"union({final_union}, '[{entity_list}]')\")\n",
    "            puml_output.append(f\"equivalent({main_class_name}, {final_union})\")\n",
    "\n",
    "        return \"\\n\".join(puml_output)\n",
    "\n",
    "# Example Usage: [ProcuringBusinessProcess,MaterialArtifact, PieceOfEquipment], [MeasurementInformationContentEntity]\n",
    "input = \"GainOfRole\"\n",
    "iofonto = get_ontology(\"https://spec.industrialontologies.org/ontology/core/Core/\").load()\n",
    "# axiom_result = axiom_to_puml(iofonto[\"ProcuringBusinessProcess\"])\n",
    "axiom_result = axiom_to_puml(iofonto[input])\n",
    "print(axiom_result)\n"
   ]
  },
  {
   "cell_type": "markdown",
   "metadata": {},
   "source": []
  },
  {
   "cell_type": "code",
   "execution_count": 220,
   "metadata": {},
   "outputs": [
    {
     "name": "stdout",
     "output_type": "stream",
     "text": [
      "Core.ProductProductionProcess\n",
      "[Core.BusinessProcess, obo.BFO_0000117.some(Core.ManufacturingProcess), obo.BFO_0000199.some(obo.BFO_0000008 & Core.temporallyOverlaps.some(Inverse(obo.BFO_0000108).some(Core.MaterialProduct))), Core.hasSpecifiedOutput.some(Core.MaterialProduct)]\n",
      "<class 'owlready2.entity.ThingClass'> Core.BusinessProcess\n",
      "<class 'owlready2.class_construct.Restriction'> obo.BFO_0000117.some(Core.ManufacturingProcess)\n",
      "<class 'owlready2.class_construct.Restriction'> obo.BFO_0000199.some(obo.BFO_0000008 & Core.temporallyOverlaps.some(Inverse(obo.BFO_0000108).some(Core.MaterialProduct)))\n",
      "<class 'owlready2.entity.ThingClass'> Core.ManufacturingProcess\n",
      "<class 'owlready2.class_construct.And'> obo.BFO_0000008 & Core.temporallyOverlaps.some(Inverse(obo.BFO_0000108).some(Core.MaterialProduct))\n",
      "<class 'owlready2.util.CallbackList'> [obo.BFO_0000008, Core.temporallyOverlaps.some(Inverse(obo.BFO_0000108).some(Core.MaterialProduct))]\n",
      "<class 'owlready2.entity.ThingClass'> obo.BFO_0000008\n"
     ]
    }
   ],
   "source": [
    "print(iofonto[\"ProductProductionProcess\"])\n",
    "axiom = iofonto[\"ProductProductionProcess\"].equivalent_to[0]\n",
    "print(axiom.Classes)\n",
    "print(type(axiom.Classes[0]), axiom.Classes[0])\n",
    "print(type(axiom.Classes[1]), axiom.Classes[1])\n",
    "print(type(axiom.Classes[2]), axiom.Classes[2])\n",
    "print(type(axiom.Classes[1].value), axiom.Classes[1].value)\n",
    "print(type(axiom.Classes[2].value), axiom.Classes[2].value)\n",
    "print(type(axiom.Classes[2].value.Classes), axiom.Classes[2].value.Classes)\n",
    "print(type(axiom.Classes[2].value.Classes[0]), axiom.Classes[2].value.Classes[0])\n"
   ]
  },
  {
   "cell_type": "code",
   "execution_count": 317,
   "metadata": {},
   "outputs": [
    {
     "name": "stdout",
     "output_type": "stream",
     "text": [
      "obo.BFO_0000015 & (obo.BFO_0000199.some(obo.BFO_0000202 & (Core.meets.some(obo.BFO_0000202 & Inverse(obo.BFO_0000108).some(obo.BFO_0000023)) | Core.temporallyOverlaps.some(obo.BFO_0000202 & Inverse(obo.BFO_0000108).some(obo.BFO_0000023)) | Core.temporallyStarts.some(obo.BFO_0000202 & Inverse(obo.BFO_0000108).some(obo.BFO_0000023)))) & Core.hasOutput.some(obo.BFO_0000023)) & obo.BFO_0000167.some(obo.BFO_0000004 & Not(obo.BFO_0000006))\n",
      "obo.BFO_0000199.some(obo.BFO_0000202 & (Core.meets.some(obo.BFO_0000202 & Inverse(obo.BFO_0000108).some(obo.BFO_0000023)) | Core.temporallyOverlaps.some(obo.BFO_0000202 & Inverse(obo.BFO_0000108).some(obo.BFO_0000023)) | Core.temporallyStarts.some(obo.BFO_0000202 & Inverse(obo.BFO_0000108).some(obo.BFO_0000023)))) & Core.hasOutput.some(obo.BFO_0000023)\n",
      "[obo.BFO_0000199.some(obo.BFO_0000202 & (Core.meets.some(obo.BFO_0000202 & Inverse(obo.BFO_0000108).some(obo.BFO_0000023)) | Core.temporallyOverlaps.some(obo.BFO_0000202 & Inverse(obo.BFO_0000108).some(obo.BFO_0000023)) | Core.temporallyStarts.some(obo.BFO_0000202 & Inverse(obo.BFO_0000108).some(obo.BFO_0000023)))), Core.hasOutput.some(obo.BFO_0000023)]\n",
      "obo.BFO_0000199.some(obo.BFO_0000202 & (Core.meets.some(obo.BFO_0000202 & Inverse(obo.BFO_0000108).some(obo.BFO_0000023)) | Core.temporallyOverlaps.some(obo.BFO_0000202 & Inverse(obo.BFO_0000108).some(obo.BFO_0000023)) | Core.temporallyStarts.some(obo.BFO_0000202 & Inverse(obo.BFO_0000108).some(obo.BFO_0000023))))\n",
      "Core.meets.some(obo.BFO_0000202 & Inverse(obo.BFO_0000108).some(obo.BFO_0000023)) | Core.temporallyOverlaps.some(obo.BFO_0000202 & Inverse(obo.BFO_0000108).some(obo.BFO_0000023)) | Core.temporallyStarts.some(obo.BFO_0000202 & Inverse(obo.BFO_0000108).some(obo.BFO_0000023))\n",
      "Core.meets.some(obo.BFO_0000202 & Inverse(obo.BFO_0000108).some(obo.BFO_0000023))\n",
      "obo.BFO_0000202 & Inverse(obo.BFO_0000108).some(obo.BFO_0000023)\n",
      "Inverse(obo.BFO_0000108).some(obo.BFO_0000023)\n"
     ]
    },
    {
     "data": {
      "text/plain": [
       "'BFO_0000108'"
      ]
     },
     "execution_count": 317,
     "metadata": {},
     "output_type": "execute_result"
    }
   ],
   "source": [
    "axiom = iofonto[\"GainOfRole\"].equivalent_to[0]\n",
    "print(axiom)\n",
    "l = 1\n",
    "\n",
    "print(axiom.Classes[l])\n",
    "print(axiom.Classes[l].Classes)\n",
    "print(axiom.Classes[l].Classes[0])\n",
    "print(axiom.Classes[l].Classes[0].value.Classes[1])\n",
    "print(axiom.Classes[l].Classes[0].value.Classes[1].Classes[0])\n",
    "print(axiom.Classes[l].Classes[0].value.Classes[1].Classes[0].value)\n",
    "print(axiom.Classes[l].Classes[0].value.Classes[1].Classes[0].value.Classes[1])\n",
    "\n",
    "check =axiom.Classes[l].Classes[0].value.Classes[1].Classes[0].value.Classes[1].property\n",
    "check.property.name\n",
    "\n",
    "\n"
   ]
  },
  {
   "cell_type": "code",
   "execution_count": 312,
   "metadata": {},
   "outputs": [
    {
     "name": "stdout",
     "output_type": "stream",
     "text": [
      "obo.BFO_0000030 & obo.BFO_0000196.some(Core.DesignedFunction)\n",
      "obo.BFO_0000196\n",
      "BFO_0000196\n"
     ]
    }
   ],
   "source": [
    "a = iofonto[\"MaterialArtifact\"].equivalent_to[0]\n",
    "print(a)\n",
    "print(a.Classes[1].property)\n",
    "print(a.Classes[1].property.name)\n",
    "\n"
   ]
  },
  {
   "cell_type": "code",
   "execution_count": 248,
   "metadata": {},
   "outputs": [
    {
     "name": "stdout",
     "output_type": "stream",
     "text": [
      "obo.BFO_0000004 & Not(obo.BFO_0000006)\n"
     ]
    },
    {
     "data": {
      "text/plain": [
       "True"
      ]
     },
     "execution_count": 248,
     "metadata": {},
     "output_type": "execute_result"
    }
   ],
   "source": [
    "print(axiom.Classes[l].value.Classes[2])\n",
    "isinstance(axiom.Classes[l].value.Classes[2], owlready2.class_construct.And)"
   ]
  },
  {
   "cell_type": "code",
   "execution_count": null,
   "metadata": {},
   "outputs": [],
   "source": [
    "owlready2.class_construct.And"
   ]
  },
  {
   "cell_type": "code",
   "execution_count": null,
   "metadata": {},
   "outputs": [],
   "source": [
    "class_list = []\n",
    "\n",
    "while isinstance(axiom.Classes[2].value.Classes[0], Restriction):\n",
    "    print('Restriction')\n",
    "    print(axiom.Classes[2].value.Classes[0].property)\n",
    "    print(axiom.Classes[2].value.Classes[0].value)\n",
    "    class_list.append(axiom.Classes[2].value.Classes[0].value)\n",
    "    axiom = axiom.Classes[2].value.Classes[0].value.equivalent_to[0]\n",
    "    print(axiom.Classes[0])\n",
    "    print(axiom.Classes[1])\n",
    "    print(axiom.Classes[2])"
   ]
  },
  {
   "cell_type": "code",
   "execution_count": 267,
   "metadata": {},
   "outputs": [
    {
     "name": "stdout",
     "output_type": "stream",
     "text": [
      "none\n",
      "['__bool__', '__class__', '__delattr__', '__dir__', '__doc__', '__eq__', '__format__', '__ge__', '__getattribute__', '__gt__', '__hash__', '__init__', '__init_subclass__', '__le__', '__lt__', '__ne__', '__new__', '__reduce__', '__reduce_ex__', '__repr__', '__setattr__', '__sizeof__', '__str__', '__subclasshook__']\n"
     ]
    },
    {
     "ename": "AttributeError",
     "evalue": "'NoneType' object has no attribute 'equivalent_to'",
     "output_type": "error",
     "traceback": [
      "\u001b[0;31m---------------------------------------------------------------------------\u001b[0m",
      "\u001b[0;31mAttributeError\u001b[0m                            Traceback (most recent call last)",
      "Cell \u001b[0;32mIn[267], line 4\u001b[0m\n\u001b[1;32m      2\u001b[0m \u001b[38;5;28mprint\u001b[39m(\u001b[38;5;124m\"\u001b[39m\u001b[38;5;124mnone\u001b[39m\u001b[38;5;124m\"\u001b[39m \u001b[38;5;28;01mif\u001b[39;00m a \u001b[38;5;129;01mis\u001b[39;00m \u001b[38;5;28;01mNone\u001b[39;00m \u001b[38;5;28;01melse\u001b[39;00m a)\n\u001b[1;32m      3\u001b[0m \u001b[38;5;28mprint\u001b[39m(\u001b[38;5;28mdir\u001b[39m(a))\n\u001b[0;32m----> 4\u001b[0m \u001b[38;5;28mprint\u001b[39m(\u001b[43ma\u001b[49m\u001b[38;5;241;43m.\u001b[39;49m\u001b[43mequivalent_to\u001b[49m)\n",
      "\u001b[0;31mAttributeError\u001b[0m: 'NoneType' object has no attribute 'equivalent_to'"
     ]
    }
   ],
   "source": [
    "a = iofonto[\"GainofRole\"]\n",
    "print(\"none\" if a is None else a)\n",
    "print(dir(a))\n",
    "print(a.equivalent_to)"
   ]
  },
  {
   "cell_type": "code",
   "execution_count": null,
   "metadata": {},
   "outputs": [
    {
     "data": {
      "text/plain": [
       "[]"
      ]
     },
     "execution_count": 253,
     "metadata": {},
     "output_type": "execute_result"
    }
   ],
   "source": [
    "#Axiom to PUML\n",
    "from owlready2 import *\n",
    "\n",
    "def axiom_to_puml(class_entity):\n",
    "    bfo = get_namespace(\"http://purl.obolibrary.org/obo/\")\n",
    "    iofcore = get_namespace(\"https://spec.industrialontologies.org/ontology/core/Core/\")\n",
    "    \"\"\"Converts an OWL equivalent class axiom to PUML notation.\"\"\"\n",
    "    puml_output = []\n",
    "    puml_output.append(\"!include https://raw.githubusercontent.com/iofoundry/ontopuml/main/iof.iuml\")\n",
    "    class_map = {}\n",
    "    counter = 1\n",
    "\n",
    "    def get_class_name(entity):\n",
    "        \"\"\"Extracts and maps class names with proper prefixes.\"\"\"\n",
    "        nonlocal counter\n",
    "        if isinstance(entity, ThingClass):  # Direct OWL class\n",
    "            print(counter, 'processing', entity)\n",
    "            prefix = \"bfo:\" if \"BFO\" in str(entity) else \"iof:\"\n",
    "            class_name = entity.name\n",
    "            if class_name not in class_map:\n",
    "                class_map[class_name] = f\"c{counter}\"\n",
    "                puml_output.append(f'class({class_map[class_name]}, {prefix}{to_camel_case(bfo[entity.name].label[0]) if class_name.startswith(\"BFO\") else class_name})')\n",
    "                counter += 1\n",
    "            print(puml_output)\n",
    "            return class_map[class_name]\n",
    "\n",
    "        elif isinstance(entity, Restriction):  # Some restriction case\n",
    "            if\n",
    "            print(counter)\n",
    "            print('Restriction', entity)\n",
    "            prefix = \"bfo:\" if \"BFO\" in str(entity) else \"iof:\"\n",
    "            prop_name = prefix + to_camel_case(bfo[entity.property.name].label[0]) if entity.property.name.startswith(\"BFO\") else to_camel_case(iofcore[entity.property.name].label[0])\n",
    "            print(prop_name)\n",
    "            return process_restriction(entity, prop_name)\n",
    "        \n",
    "        elif isinstance(entity, And):  # Some restriction case\n",
    "            print('And', entity)\n",
    "            prefix = \"bfo:\" if \"BFO\" in str(entity) else \"iof:\"\n",
    "            prop_name = None\n",
    "            return process_restriction(entity, prop_name)\n",
    "        \n",
    "        elif isinstance(entity, Or):  # Some restriction case\n",
    "            print('Or', entity)\n",
    "            prefix = \"bfo:\" if \"BFO\" in str(entity) else \"iof:\"\n",
    "            prop_name = None\n",
    "            return process_restriction(entity, prop_name)\n",
    "        \n",
    "        elif isinstance(entity, Not):\n",
    "            return \n",
    "        \n",
    "        elif isinstance(entity, Inverse):\n",
    "            print('Inverse', entity.property)\n",
    "            return\n",
    "\n",
    "        else:\n",
    "            print('error',entity)\n",
    "            raise ValueError(f\"Unsupported entity type: {type(entity)}\")\n",
    "\n",
    "    def process_restriction(restriction, prop_name):\n",
    "        \"\"\"Handles OWL 'some' restrictions including unions inside.\"\"\"\n",
    "        nonlocal counter\n",
    "        if isinstance(restriction, And):\n",
    "            print('and', restriction)\n",
    "            entities = [get_class_name(e) for e in restriction.Classes]\n",
    "            union_name = f\"ce{counter}\"\n",
    "            entity_list = \", \".join(f'\\\"{e}\\\"' for e in entities)  # Properly escapes quotes\n",
    "            puml_output.append(f\"intersection({union_name}, '[{entity_list}]')\")\n",
    "            counter += 1\n",
    "            var_name = f\"ce{counter}\"\n",
    "            puml_output.append(f\"some({var_name}, {prop_name}, {union_name})\")\n",
    "            counter += 1\n",
    "            return var_name\n",
    "        \n",
    "        elif isinstance(restriction, Or):\n",
    "            print('and', restriction)\n",
    "            entities = [get_class_name(e) for e in restriction.Classes]\n",
    "            union_name = f\"ce{counter}\"\n",
    "            entity_list = \", \".join(f'\\\"{e}\\\"' for e in entities)  # Properly escapes quotes\n",
    "            puml_output.append(f\"union({union_name}, '[{entity_list}]')\")\n",
    "            counter += 1\n",
    "            var_name = f\"ce{counter}\"\n",
    "            puml_output.append(f\"some({var_name}, {prop_name}, {union_name})\")\n",
    "            counter += 1\n",
    "            return var_name\n",
    "        \n",
    "\n",
    "        elif isinstance(restriction.value, Or):\n",
    "            print('or', restriction.value)\n",
    "            entities = [get_class_name(e) for e in restriction.value.Classes]\n",
    "            union_name = f\"ce{counter}\"\n",
    "            entity_list = \", \".join(f'\\\"{e}\\\"' for e in entities)  # Properly escapes quotes\n",
    "            puml_output.append(f\"union({union_name}, '[{entity_list}]')\")\n",
    "            counter += 1\n",
    "            var_name = f\"ce{counter}\"\n",
    "            puml_output.append(f\"some({var_name}, {prop_name}, {union_name})\")\n",
    "            counter += 1\n",
    "            return var_name\n",
    "\n",
    "        else:  \n",
    "            print('restriction else', restriction)\n",
    "            class_name = get_class_name(restriction.value)\n",
    "            var_name = f\"ce{counter}\"\n",
    "            puml_output.append(f\"some({var_name}, {prop_name}, {class_name})\")\n",
    "            counter += 1\n",
    "            print(puml_output)\n",
    "            return var_name\n",
    "    \n",
    "    if len(class_entity.equivalent_to) == 0:\n",
    "        print('class_entity.equivalent_to',class_entity.equivalent_to)\n",
    "        return\n",
    "        \n",
    "    else:\n",
    "        print(class_entity.equivalent_to, type(class_entity.equivalent_to[0]))\n",
    "        axiom = class_entity.equivalent_to[0]\n",
    "        main_class_name = get_class_name(class_entity)\n",
    "        processed_parts = [get_class_name(part) for part in axiom.Classes]\n",
    "        print(processed_parts)\n",
    "\n",
    "        if len(processed_parts) > 1:\n",
    "            final_union = f\"ce{counter}\"\n",
    "            entity_list = \", \".join(f'\"{e}\"' for e in processed_parts)\n",
    "            puml_output.append(f\"union({final_union}, '[{entity_list}]')\")\n",
    "            puml_output.append(f\"equivalent({main_class_name}, {final_union})\")\n",
    "\n",
    "        return \"\\n\".join(puml_output)\n",
    "\n",
    "# Example Usage: [ProcuringBusinessProcess,MaterialArtifact, PieceOfEquipment], [MeasurementInformationContentEntity]\n",
    "input = \"GainOfRole\"\n",
    "iofonto = get_ontology(\"https://spec.industrialontologies.org/ontology/core/Core/\").load()\n",
    "# axiom_result = axiom_to_puml(iofonto[\"ProcuringBusinessProcess\"])\n",
    "axiom_result = axiom_to_puml(iofonto[input])\n",
    "print(axiom_result)\n"
   ]
  }
 ],
 "metadata": {
  "kernelspec": {
   "display_name": "ontopuml",
   "language": "python",
   "name": "python3"
  },
  "language_info": {
   "codemirror_mode": {
    "name": "ipython",
    "version": 3
   },
   "file_extension": ".py",
   "mimetype": "text/x-python",
   "name": "python",
   "nbconvert_exporter": "python",
   "pygments_lexer": "ipython3",
   "version": "3.9.21"
  }
 },
 "nbformat": 4,
 "nbformat_minor": 2
}
