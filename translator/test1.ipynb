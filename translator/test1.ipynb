{
 "cells": [
  {
   "cell_type": "code",
   "metadata": {},
   "source": [
    "from translator import rdf_to_puml\n",
    "\n",
    "if __name__ == \"__main__\":\n",
    "    input_rdf = \"../sample/object-graph-1.rdf\"\n",
    "    output_puml = \"output1.puml\"\n",
    "    rdf_to_puml(input_rdf, output_puml)\n"
   ],
   "outputs": [],
   "execution_count": null
  }
 ],
 "metadata": {
  "kernelspec": {
   "display_name": "ontopuml",
   "language": "python",
   "name": "python3"
  },
  "language_info": {
   "codemirror_mode": {
    "name": "ipython",
    "version": 3
   },
   "file_extension": ".py",
   "mimetype": "text/x-python",
   "name": "python",
   "nbconvert_exporter": "python",
   "pygments_lexer": "ipython3",
   "version": "3.9.21"
  }
 },
 "nbformat": 4,
 "nbformat_minor": 2
}
