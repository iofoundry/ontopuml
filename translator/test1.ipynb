{
 "cells": [
  {
   "cell_type": "code",
   "execution_count": 1,
   "metadata": {},
   "outputs": [],
   "source": [
    "from owlready2 import *\n"
   ]
  },
  {
   "cell_type": "code",
   "execution_count": 2,
   "metadata": {},
   "outputs": [],
   "source": [
    "#PascalCase\n",
    "def to_pascal_case(text):\n",
    "    text = text.replace('_', ' ').replace('-', ' ')\n",
    "    words = text.split()\n",
    "    return ''.join([word.capitalize() for word in words])\n",
    "#camelCase\n",
    "def to_camel_case(prop_name):\n",
    "    words = prop_name.replace(\"_\", \" \").split()\n",
    "    return words[0].lower() + \"\".join(word.capitalize() for word in words[1:]) if words else \"\""
   ]
  },
  {
   "cell_type": "code",
   "execution_count": 3,
   "metadata": {},
   "outputs": [],
   "source": [
    "#rdf to puml\n",
    "def rdf_to_puml(input_rdf, output_puml):\n",
    "    data = get_ontology(input_rdf).load()\n",
    "    iofcore = get_namespace(\"https://spec.industrialontologies.org/ontology/core/Core/\")\n",
    "    bfo = get_namespace(\"http://purl.obolibrary.org/obo/\")\n",
    "    \n",
    "    classes = {}\n",
    "    individuals = {}\n",
    "    properties = []\n",
    "\n",
    "    for ind in data.individuals():\n",
    "        individuals[ind.name] = ind\n",
    "        if ind.is_a:\n",
    "            for ind_type in ind.is_a:\n",
    "                try:\n",
    "                    ns = bfo if ind_type.name.startswith(\"BFO\") else iofcore\n",
    "                    class_label = to_pascal_case(ns[ind_type.name].label[0])\n",
    "                    classes[class_label] = ind_type\n",
    "                    properties.append((ind, \"typeOf\", class_label))\n",
    "                except:\n",
    "                    continue\n",
    "        \n",
    "        for prop in ind.get_properties():\n",
    "            for value in prop[ind]:\n",
    "                ns = bfo if prop.name.startswith(\"BFO\") else iofcore\n",
    "                properties.append((ind, to_camel_case(ns[prop.name].label[0]), value))\n",
    "    print('classes',classes,'\\n', 'individuals',individuals,'\\n', properties)\n",
    "\n",
    "    with open(output_puml, \"w\") as f:\n",
    "        f.write(\"@startuml\\n\")\n",
    "        f.write(\"!include https://raw.githubusercontent.com/iofoundry/ontopuml/main/iof.iuml\\n\")\n",
    "\n",
    "        # Declare classes first with appropriate prefixes\n",
    "        class_map = {}\n",
    "        for idx, (cls_label, cls) in enumerate(classes.items(), start=1):\n",
    "            ns_prefix = \"bfo:\" if cls.name.startswith(\"BFO\") else \"iof:\"\n",
    "            formatted_label = f\"{ns_prefix}{cls_label}\"\n",
    "            class_map[cls_label] = f\"c{idx}\"\n",
    "            f.write(f\"class({class_map[cls_label]}, {formatted_label})\\n\")\n",
    "\n",
    "        # Declare individuals with ns1: prefix\n",
    "        individual_map = {}\n",
    "        for idx, (ind_name, ind) in enumerate(individuals.items(), start=1):\n",
    "            individual_map[ind_name] = f\"i{idx}\"\n",
    "            f.write(f\"individual({individual_map[ind_name]}, ns1:{ind_name})\\n\")\n",
    "\n",
    "        # Add typeOf relationships\n",
    "        for s, p, o in properties:\n",
    "            if p == \"typeOf\" and o in class_map:\n",
    "                f.write(f\"typeOf({individual_map[s.name]}, {class_map[o]})\\n\")\n",
    "\n",
    "        # Add properties\n",
    "        for s, p, o in properties:\n",
    "            if p != \"typeOf\" and o.name in individual_map:\n",
    "                f.write(f\"property({individual_map[s.name]}, {p}, {individual_map[o.name]})\\n\")\n",
    "\n",
    "        f.write(\"@enduml\\n\")"
   ]
  },
  {
   "cell_type": "code",
   "execution_count": 4,
   "metadata": {},
   "outputs": [
    {
     "name": "stdout",
     "output_type": "stream",
     "text": [
      "classes {'MaterialArtifact': Core.MaterialArtifact, 'Process': obo.BFO_0000015, 'Quality': obo.BFO_0000019} \n",
      " individuals {'artifact1': object-graph-1.artifact1, 'process1': object-graph-1.process1, 'length1': object-graph-1.length1} \n",
      " [(object-graph-1.artifact1, 'typeOf', 'MaterialArtifact'), (object-graph-1.artifact1, 'bearerOf', object-graph-1.length1), (object-graph-1.artifact1, 'participatesIn', object-graph-1.process1), (object-graph-1.process1, 'typeOf', 'Process'), (object-graph-1.process1, 'hasParticipant', object-graph-1.artifact1), (object-graph-1.length1, 'typeOf', 'Quality'), (object-graph-1.length1, 'inheresIn', object-graph-1.artifact1)]\n",
      "PUML file saved as output1.puml\n"
     ]
    }
   ],
   "source": [
    "if __name__ == \"__main__\":\n",
    "    input_rdf = \"../sample/object-graph-1.rdf\" \n",
    "    output_puml = \"output1.puml\"\n",
    "    rdf_to_puml(input_rdf, output_puml)\n",
    "    print(f\"PUML file saved as {output_puml}\")\n"
   ]
  }
 ],
 "metadata": {
  "kernelspec": {
   "display_name": "ontopuml",
   "language": "python",
   "name": "python3"
  },
  "language_info": {
   "codemirror_mode": {
    "name": "ipython",
    "version": 3
   },
   "file_extension": ".py",
   "mimetype": "text/x-python",
   "name": "python",
   "nbconvert_exporter": "python",
   "pygments_lexer": "ipython3",
   "version": "3.9.21"
  }
 },
 "nbformat": 4,
 "nbformat_minor": 2
}
