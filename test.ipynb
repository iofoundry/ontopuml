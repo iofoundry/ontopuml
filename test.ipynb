{
 "cells": [
  {
   "cell_type": "code",
   "execution_count": 61,
   "id": "04183a43",
   "metadata": {},
   "outputs": [
    {
     "name": "stdout",
     "output_type": "stream",
     "text": [
      "No equivalent_to of benchmark-simple-modified.EquivalentClass in http://nist.gov/nowl/benchmark-simple/\n",
      "http://nist.gov/nowl/benchmark-simple/EquivalentClass \n",
      " @startuml\n",
      "!include https://raw.githubusercontent.com/iofoundry/ontopuml/main/iof.iuml\n",
      "@enduml \n",
      "\n",
      "http://nist.gov/nowl/benchmark-simple/AllValuesFromClass \n",
      " @startuml\n",
      "!include https://raw.githubusercontent.com/iofoundry/ontopuml/main/iof.iuml\n",
      "class(c1, ns2:AllValuesFromClass)\n",
      "class(c2, ns2:SimpleClass3)\n",
      "only(ce3, ns2:simpleProperty2, c2)\n",
      "equivalent(c1, ce3)\n",
      "@enduml \n",
      "\n",
      "http://nist.gov/nowl/benchmark-simple/ComplementClass \n",
      " @startuml\n",
      "!include https://raw.githubusercontent.com/iofoundry/ontopuml/main/iof.iuml\n",
      "class(c1, ns2:ComplementClass)\n",
      "class(c3, ns2:SimpleClass1)\n",
      "complement(ce3, \"c3\")\n",
      "equivalent(c1, ce3)\n",
      "@enduml \n",
      "\n",
      "Error processing equivalent_to axiom for benchmark-simple-modified.DataAllComplexDatatypeClass\n",
      "type.__new__() argument 1 must be str, not int\n",
      "http://nist.gov/nowl/benchmark-simple/DataAllComplexDatatypeClass \n",
      " @startuml\n",
      "!include https://raw.githubusercontent.com/iofoundry/ontopuml/main/iof.iuml\n",
      "class(c1, ns2:DataAllComplexDatatypeClass)\n",
      "@enduml \n",
      "\n",
      "error OneOf([1, 2, 3])\n",
      "Error processing equivalent_to axiom for benchmark-simple-modified.DataAllDatatypeOneOfClass\n",
      "Unsupported entity type: <class 'owlready2.class_construct.OneOf'>\n",
      "http://nist.gov/nowl/benchmark-simple/DataAllDatatypeOneOfClass \n",
      " @startuml\n",
      "!include https://raw.githubusercontent.com/iofoundry/ontopuml/main/iof.iuml\n",
      "class(c1, ns2:DataAllDatatypeOneOfClass)\n",
      "@enduml \n",
      "\n",
      "error ConstrainedDatatype(float, max_exclusive = 233.34, min_exclusive = 0.11)\n",
      "Error processing equivalent_to axiom for benchmark-simple-modified.DataAllDatatypeRangeClass\n",
      "Unsupported entity type: <class 'owlready2.class_construct.ConstrainedDatatype'>\n",
      "http://nist.gov/nowl/benchmark-simple/DataAllDatatypeRangeClass \n",
      " @startuml\n",
      "!include https://raw.githubusercontent.com/iofoundry/ontopuml/main/iof.iuml\n",
      "class(c1, ns2:DataAllDatatypeRangeClass)\n",
      "@enduml \n",
      "\n",
      "http://nist.gov/nowl/benchmark-simple/DataAllValueClass \n",
      " @startuml\n",
      "!include https://raw.githubusercontent.com/iofoundry/ontopuml/main/iof.iuml\n",
      "class(c1, ns2:DataAllValueClass)\n",
      "onlyData(ce2, ns2:simpleDataProperty2, <class 'str'>)\n",
      "equivalent(c1, ce2)\n",
      "@enduml \n",
      "\n",
      "http://nist.gov/nowl/benchmark-simple/DataExactCardinalityClass \n",
      " @startuml\n",
      "!include https://raw.githubusercontent.com/iofoundry/ontopuml/main/iof.iuml\n",
      "class(c1, ns2:DataExactCardinalityClass)\n",
      "someCard(ce2, ns2:simpleDataProperty3, <class 'float'>, exactly, 2)\n",
      "equivalent(c1, ce2)\n",
      "@enduml \n",
      "\n",
      "http://nist.gov/nowl/benchmark-simple/DataMaxCardinalityClass \n",
      " @startuml\n",
      "!include https://raw.githubusercontent.com/iofoundry/ontopuml/main/iof.iuml\n",
      "class(c1, ns2:DataMaxCardinalityClass)\n",
      "someCard(ce2, ns2:simpleDataProperty2, <class 'str'>, max, 3)\n",
      "equivalent(c1, ce2)\n",
      "@enduml \n",
      "\n",
      "http://nist.gov/nowl/benchmark-simple/DataMinCardinalityClass \n",
      " @startuml\n",
      "!include https://raw.githubusercontent.com/iofoundry/ontopuml/main/iof.iuml\n",
      "class(c1, ns2:DataMinCardinalityClass)\n",
      "someCard(ce2, ns2:simpleDataProperty1, <class 'int'>, min, 1)\n",
      "equivalent(c1, ce2)\n",
      "@enduml \n",
      "\n",
      "error ConstrainedDatatype(float, min_inclusive = 100.0)\n",
      "Error processing equivalent_to axiom for benchmark-simple-modified.DataSomeComplexDatatypeClass\n",
      "Unsupported entity type: <class 'owlready2.class_construct.ConstrainedDatatype'>\n",
      "http://nist.gov/nowl/benchmark-simple/DataSomeComplexDatatypeClass \n",
      " @startuml\n",
      "!include https://raw.githubusercontent.com/iofoundry/ontopuml/main/iof.iuml\n",
      "class(c1, ns2:DataSomeComplexDatatypeClass)\n",
      "@enduml \n",
      "\n",
      "error ConstrainedDatatype(int, max_exclusive = 100, min_exclusive = 1)\n",
      "Error processing equivalent_to axiom for benchmark-simple-modified.DataSomeDatatypeRangeClass\n",
      "Unsupported entity type: <class 'owlready2.class_construct.ConstrainedDatatype'>\n",
      "http://nist.gov/nowl/benchmark-simple/DataSomeDatatypeRangeClass \n",
      " @startuml\n",
      "!include https://raw.githubusercontent.com/iofoundry/ontopuml/main/iof.iuml\n",
      "class(c1, ns2:DataSomeDatatypeRangeClass)\n",
      "@enduml \n",
      "\n",
      "http://nist.gov/nowl/benchmark-simple/DataSomeValueClass \n",
      " @startuml\n",
      "!include https://raw.githubusercontent.com/iofoundry/ontopuml/main/iof.iuml\n",
      "class(c1, ns2:DataSomeValueClass)\n",
      "someData(ce2, ns2:simpleDataProperty1, <class 'int'>)\n",
      "equivalent(c1, ce2)\n",
      "@enduml \n",
      "\n",
      "error 1.0\n",
      "Error processing equivalent_to axiom for benchmark-simple-modified.DataValueClass\n",
      "Unsupported entity type: <class 'float'>\n",
      "http://nist.gov/nowl/benchmark-simple/DataValueClass \n",
      " @startuml\n",
      "!include https://raw.githubusercontent.com/iofoundry/ontopuml/main/iof.iuml\n",
      "class(c1, ns2:DataValueClass)\n",
      "@enduml \n",
      "\n",
      "http://nist.gov/nowl/benchmark-simple/ExactCardinalityClass \n",
      " @startuml\n",
      "!include https://raw.githubusercontent.com/iofoundry/ontopuml/main/iof.iuml\n",
      "class(c1, ns2:ExactCardinalityClass)\n",
      "class(c2, ns2:SimpleClass1)\n",
      "someCard(ce3, ns2:simpleProperty3, c2, exactly, 2)\n",
      "equivalent(c1, ce3)\n",
      "@enduml \n",
      "\n",
      "http://nist.gov/nowl/benchmark-simple/IntersectionClass \n",
      " @startuml\n",
      "!include https://raw.githubusercontent.com/iofoundry/ontopuml/main/iof.iuml\n",
      "class(c1, ns2:IntersectionClass)\n",
      "class(c2, ns2:SimpleClass1)\n",
      "class(c3, ns2:SimpleClass2)\n",
      "intersection(ce4, '[\"c2\", \"c3\"]')\n",
      "equivalent(c1, ce4)\n",
      "@enduml \n",
      "\n",
      "http://nist.gov/nowl/benchmark-simple/MaxCardinalityClass \n",
      " @startuml\n",
      "!include https://raw.githubusercontent.com/iofoundry/ontopuml/main/iof.iuml\n",
      "class(c1, ns2:MaxCardinalityClass)\n",
      "class(c2, ns2:SimpleClass3)\n",
      "someCard(ce3, ns2:simpleProperty2, c2, max, 3)\n",
      "equivalent(c1, ce3)\n",
      "@enduml \n",
      "\n",
      "http://nist.gov/nowl/benchmark-simple/MinCardinalityClass \n",
      " @startuml\n",
      "!include https://raw.githubusercontent.com/iofoundry/ontopuml/main/iof.iuml\n",
      "class(c1, ns2:MinCardinalityClass)\n",
      "class(c2, ns2:SimpleClass2)\n",
      "someCard(ce3, ns2:simpleProperty1, c2, min, 1)\n",
      "equivalent(c1, ce3)\n",
      "@enduml \n",
      "\n",
      "No equivalent_to of benchmark-simple-modified.OneOfClass in http://nist.gov/nowl/benchmark-simple/\n",
      "http://nist.gov/nowl/benchmark-simple/OneOfClass \n",
      " @startuml\n",
      "!include https://raw.githubusercontent.com/iofoundry/ontopuml/main/iof.iuml\n",
      "@enduml \n",
      "\n",
      "http://nist.gov/nowl/benchmark-simple/SelfClass \n",
      " @startuml\n",
      "!include https://raw.githubusercontent.com/iofoundry/ontopuml/main/iof.iuml\n",
      "class(c1, ns2:SelfClass)\n",
      "class(c2, ns2:owl#Thing)\n",
      "has_self(ce3, ns2:simpleProperty1)\n",
      "equivalent(c1, ce3)\n",
      "@enduml \n",
      "\n",
      "http://nist.gov/nowl/benchmark-simple/SomeValuesFromClass \n",
      " @startuml\n",
      "!include https://raw.githubusercontent.com/iofoundry/ontopuml/main/iof.iuml\n",
      "class(c1, ns2:SomeValuesFromClass)\n",
      "class(c2, ns2:SimpleClass2)\n",
      "some(ce3, ns2:simpleProperty1, c2)\n",
      "equivalent(c1, ce3)\n",
      "@enduml \n",
      "\n",
      "No equivalent_to of benchmark-simple-modified.SubClass in http://nist.gov/nowl/benchmark-simple/\n",
      "http://nist.gov/nowl/benchmark-simple/SubClass \n",
      " @startuml\n",
      "!include https://raw.githubusercontent.com/iofoundry/ontopuml/main/iof.iuml\n",
      "@enduml \n",
      "\n",
      "http://nist.gov/nowl/benchmark-simple/UnionClass \n",
      " @startuml\n",
      "!include https://raw.githubusercontent.com/iofoundry/ontopuml/main/iof.iuml\n",
      "class(c1, ns2:UnionClass)\n",
      "class(c2, ns2:SimpleClass1)\n",
      "class(c3, ns2:SimpleClass2)\n",
      "union(ce4, '[\"c2\", \"c3\"]')\n",
      "equivalent(c1, ce4)\n",
      "@enduml \n",
      "\n",
      "error benchmark-core-modified.individual1\n",
      "Error processing equivalent_to axiom for benchmark-simple-modified.ValueClass\n",
      "Unsupported entity type: benchmark-core-modified.SimpleClass1\n",
      "http://nist.gov/nowl/benchmark-simple/ValueClass \n",
      " @startuml\n",
      "!include https://raw.githubusercontent.com/iofoundry/ontopuml/main/iof.iuml\n",
      "class(c1, ns2:ValueClass)\n",
      "@enduml \n",
      "\n"
     ]
    }
   ],
   "source": [
    "from owlready2 import *\n",
    "from cli import axiom_to_puml\n",
    "get_ontology(\"cli/benchmark-core-modified.rdf\").load()\n",
    "get_ontology(\"cli/benchmark-simple-modified.rdf\").load()\n",
    "onto_simple = get_ontology(\"cli/benchmark-simple-modified.rdf\").load()\n",
    "onto_simple_classes = [i for i in onto_simple.classes()]\n",
    "\n",
    "for cls in onto_simple.classes():\n",
    "    converter = axiom_to_puml(\n",
    "        class_entities={\n",
    "        cls.iri: \"ns\",\n",
    "        },\n",
    "        ontology=\"cli/benchmark-simple-modified.rdf\",\n",
    "        # layout_type=\"bipartite\",\n",
    "        save_puml=0,\n",
    "    )\n",
    "    print(cls.iri,\"\\n\",converter[0], \"\\n\")"
   ]
  },
  {
   "cell_type": "code",
   "execution_count": 9,
   "id": "0b165fca",
   "metadata": {},
   "outputs": [
    {
     "name": "stdout",
     "output_type": "stream",
     "text": [
      "benchmark-simple.EquivalentClass benchmark-simple.SubClass benchmark-simple.UnionClass benchmark-simple.IntersectionClass benchmark-simple.ComplementClass benchmark-simple.OneOfClass benchmark-simple.SomeValuesFromClass benchmark-simple.AllValuesFromClass benchmark-simple.ValueClass benchmark-simple.SelfClass benchmark-simple.MinCardinalityClass benchmark-simple.MaxCardinalityClass benchmark-simple.ExactCardinalityClass benchmark-simple.DataSomeValueClass benchmark-simple.DataAllValueClass benchmark-simple.DataValueClass benchmark-simple.DataMinCardinalityClass benchmark-simple.DataMaxCardinalityClass benchmark-simple.DataExactCardinalityClass benchmark-simple-modified.DataAllComplexDatatypeClass benchmark-simple-modified.DataAllDatatypeOneOfClass benchmark-simple-modified.DataAllDatatypeRangeClass benchmark-simple-modified.DataSomeComplexDatatypeClass benchmark-simple-modified.DataSomeDatatypeRangeClass\n"
     ]
    }
   ],
   "source": [
    "from owlready2 import *\n",
    "onto_core = get_ontology(\"cli/benchmark-core-modified.rdf\").load()\n",
    "onto_simple = get_ontology(\"cli/benchmark-simple-modified.rdf\").load()\n",
    "print(*onto_simple.classes())"
   ]
  },
  {
   "cell_type": "code",
   "execution_count": 10,
   "id": "58c67adb",
   "metadata": {},
   "outputs": [
    {
     "name": "stdout",
     "output_type": "stream",
     "text": [
      "0 <class 'owlready2.entity.ThingClass'>   benchmark-simple.EquivalentClass\n",
      "1 <class 'owlready2.entity.ThingClass'>   benchmark-simple.SubClass\n",
      "2 <class 'owlready2.entity.ThingClass'>   benchmark-simple.UnionClass\n",
      "3 <class 'owlready2.entity.ThingClass'>   benchmark-simple.IntersectionClass\n",
      "4 <class 'owlready2.entity.ThingClass'>   benchmark-simple.ComplementClass\n",
      "5 <class 'owlready2.entity.ThingClass'>   benchmark-simple.OneOfClass\n",
      "6 24   benchmark-simple.SomeValuesFromClass [benchmark-core.simpleProperty1.some(benchmark-core.SimpleClass2), benchmark-core.simpleProperty1.some(benchmark-core.SimpleClass2)]\n",
      "7 25   benchmark-simple.AllValuesFromClass [benchmark-core.simpleProperty2.only(benchmark-core.SimpleClass3)]\n",
      "8 29   benchmark-simple.ValueClass [benchmark-core.simpleProperty3.value(benchmark-core.individual1), benchmark-core.simpleProperty3.value(benchmark-core.individual1)]\n",
      "9 117   benchmark-simple.SelfClass [benchmark-core.simpleProperty1.has_self(), benchmark-core.simpleProperty1.has_self()]\n",
      "10 27   benchmark-simple.MinCardinalityClass [benchmark-core.simpleProperty1.min(1, benchmark-core.SimpleClass2), benchmark-core.simpleProperty1.min(1, benchmark-core.SimpleClass2)]\n",
      "11 28   benchmark-simple.MaxCardinalityClass [benchmark-core.simpleProperty2.max(3, benchmark-core.SimpleClass3), benchmark-core.simpleProperty2.max(3, benchmark-core.SimpleClass3)]\n",
      "12 26   benchmark-simple.ExactCardinalityClass [benchmark-core.simpleProperty3.exactly(2, benchmark-core.SimpleClass1), benchmark-core.simpleProperty3.exactly(2, benchmark-core.SimpleClass1)]\n",
      "13 24   benchmark-simple.DataSomeValueClass [benchmark-core.simpleDataProperty1.some(<class 'int'>), benchmark-core.simpleDataProperty1.some(<class 'int'>)]\n",
      "14 25   benchmark-simple.DataAllValueClass [benchmark-core.simpleDataProperty2.only(<class 'str'>), benchmark-core.simpleDataProperty2.only(<class 'str'>)]\n",
      "15 29   benchmark-simple.DataValueClass [benchmark-core.simpleDataProperty3.value(1.0), benchmark-core.simpleDataProperty3.value(1.0)]\n",
      "16 27   benchmark-simple.DataMinCardinalityClass [benchmark-core.simpleDataProperty1.min(1, <class 'int'>), benchmark-core.simpleDataProperty1.min(1, <class 'int'>)]\n",
      "17 28   benchmark-simple.DataMaxCardinalityClass [benchmark-core.simpleDataProperty2.max(3, <class 'str'>), benchmark-core.simpleDataProperty2.max(3, <class 'str'>)]\n",
      "18 26   benchmark-simple.DataExactCardinalityClass [benchmark-core.simpleDataProperty3.exactly(2, <class 'float'>), benchmark-core.simpleDataProperty3.exactly(2, <class 'float'>)]\n",
      "19 25   benchmark-simple-modified.DataAllComplexDatatypeClass 19 <class 'owlready2.entity.ThingClass'>   benchmark-simple-modified.DataAllComplexDatatypeClass\n",
      "20 25   benchmark-simple-modified.DataAllDatatypeOneOfClass [benchmark-core.simpleDataProperty1.only(OneOf([1, 2, 3]))]\n",
      "21 25   benchmark-simple-modified.DataAllDatatypeRangeClass [benchmark-core.simpleDataProperty3.only(ConstrainedDatatype(float, max_exclusive = 233.34, min_exclusive = 0.11))]\n",
      "22 24   benchmark-simple-modified.DataSomeComplexDatatypeClass [benchmark-core.simpleDataProperty3.some(ConstrainedDatatype(float, min_inclusive = 100.0) | ConstrainedDatatype(float, max_exclusive = 33.4, min_exclusive = -0.5))]\n",
      "23 24   benchmark-simple-modified.DataSomeDatatypeRangeClass [benchmark-core.simpleDataProperty2.some(ConstrainedDatatype(int, max_exclusive = 100, min_exclusive = 1))]\n"
     ]
    }
   ],
   "source": [
    "c = [i for i in onto_core.classes()]\n",
    "a = [i for i in onto_simple.classes()]\n",
    "n = 0\n",
    "for i in range(len(a)):\n",
    "    try:\n",
    "        print(i,a[i].equivalent_to[0].type,\" \", a[i],a[i].equivalent_to)\n",
    "    except:\n",
    "        print(i,type(a[i]),\" \", a[i])\n"
   ]
  },
  {
   "cell_type": "code",
   "execution_count": 42,
   "id": "e95f0092",
   "metadata": {},
   "outputs": [
    {
     "name": "stdout",
     "output_type": "stream",
     "text": [
      "benchmark-simple.ValueClass\n",
      "benchmark-core.simpleProperty3.value(benchmark-core.individual1)\n",
      "<class 'owlready2.class_construct.Restriction'>\n"
     ]
    }
   ],
   "source": [
    "b = a[8]\n",
    "print(b)\n",
    "s = b.equivalent_to[0]\n",
    "print(s)\n",
    "print(type(s))"
   ]
  },
  {
   "cell_type": "code",
   "execution_count": null,
   "id": "87b46956",
   "metadata": {},
   "outputs": [],
   "source": []
  },
  {
   "cell_type": "code",
   "execution_count": 60,
   "id": "affc974e",
   "metadata": {},
   "outputs": [
    {
     "name": "stdout",
     "output_type": "stream",
     "text": [
      "[benchmark-simple-modified.EquivalentClass]\n",
      "[]\n"
     ]
    }
   ],
   "source": [
    "print(c[0].equivalent_to)\n",
    "print(a[0].equivalent_to)"
   ]
  },
  {
   "cell_type": "code",
   "execution_count": 30,
   "id": "0bd25c8e",
   "metadata": {},
   "outputs": [
    {
     "name": "stdout",
     "output_type": "stream",
     "text": [
      "[benchmark-simple-modified.EquivalentClass, benchmark-simple-modified.AllValuesFromClass, benchmark-simple-modified.ComplementClass, benchmark-simple-modified.DataAllComplexDatatypeClass, benchmark-simple-modified.DataAllDatatypeOneOfClass, benchmark-simple-modified.DataAllDatatypeRangeClass, benchmark-simple-modified.DataAllValueClass, benchmark-simple-modified.DataExactCardinalityClass, benchmark-simple-modified.DataMaxCardinalityClass, benchmark-simple-modified.DataMinCardinalityClass, benchmark-simple-modified.DataSomeComplexDatatypeClass, benchmark-simple-modified.DataSomeDatatypeRangeClass, benchmark-simple-modified.DataSomeValueClass, benchmark-simple-modified.DataValueClass, benchmark-simple-modified.ExactCardinalityClass, benchmark-simple-modified.IntersectionClass, benchmark-simple-modified.MaxCardinalityClass, benchmark-simple-modified.MinCardinalityClass, benchmark-simple-modified.OneOfClass, benchmark-simple-modified.SelfClass, benchmark-simple-modified.SomeValuesFromClass, benchmark-simple-modified.SubClass, benchmark-simple-modified.UnionClass, benchmark-simple-modified.ValueClass]\n"
     ]
    }
   ],
   "source": [
    "print(a)"
   ]
  },
  {
   "cell_type": "code",
   "execution_count": 5,
   "id": "763bade3",
   "metadata": {},
   "outputs": [
    {
     "name": "stdout",
     "output_type": "stream",
     "text": [
      "<class 'float'>\n",
      "<class 'type'>\n"
     ]
    }
   ],
   "source": [
    "print(b.value)\n",
    "print(type(b.value))"
   ]
  },
  {
   "cell_type": "code",
   "execution_count": 8,
   "id": "379311a1",
   "metadata": {},
   "outputs": [
    {
     "name": "stdout",
     "output_type": "stream",
     "text": [
      "http://nist.gov/nowl/benchmark-simple/DataExactCardinalityClass\n"
     ]
    }
   ],
   "source": [
    "print(a[7].iri)\n"
   ]
  }
 ],
 "metadata": {
  "kernelspec": {
   "display_name": "ontopuml",
   "language": "python",
   "name": "python3"
  },
  "language_info": {
   "codemirror_mode": {
    "name": "ipython",
    "version": 3
   },
   "file_extension": ".py",
   "mimetype": "text/x-python",
   "name": "python",
   "nbconvert_exporter": "python",
   "pygments_lexer": "ipython3",
   "version": "3.9.21"
  }
 },
 "nbformat": 4,
 "nbformat_minor": 5
}
