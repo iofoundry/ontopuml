{
 "cells": [
  {
   "cell_type": "code",
   "execution_count": 25,
   "metadata": {},
   "outputs": [
    {
     "name": "stdout",
     "output_type": "stream",
     "text": [
      "@startuml\n",
      "!include https://raw.githubusercontent.com/iofoundry/ontopuml/main/iof.iuml\n",
      "class(c1, iof:MaterialArtifact)\n",
      "class(c2, bfo:Process)\n",
      "class(c3, bfo:Quality)\n",
      "individual(i1, ns1:artifact1)\n",
      "individual(i2, ns1:process1)\n",
      "individual(i3, ns1:length1)\n",
      "typeOf(i1, c1)\n",
      "typeOf(i2, c2)\n",
      "typeOf(i3, c3)\n",
      "property(i1, bearerOf, i3, right)\n",
      "property(i1, participatesIn, i2, down)\n",
      "@enduml\n"
     ]
    }
   ],
   "source": [
    "from translator import rdf_to_puml\n",
    "\n",
    "\n",
    "input_rdf = \"sample/object-graph-1.rdf\"\n",
    "result = rdf_to_puml(input_rdf, save_puml = False)\n",
    "print(result)"
   ]
  },
  {
   "cell_type": "code",
   "execution_count": 1,
   "metadata": {},
   "outputs": [
    {
     "name": "stdout",
     "output_type": "stream",
     "text": [
      "@startuml\n",
      "!include https://raw.githubusercontent.com/iofoundry/ontopuml/main/iof.iuml\n",
      "class(c1, iof:ProcuringBusinessProcess)\n",
      "class(c2, iof:BusinessProcess)\n",
      "class(c3, iof:BuyingBusinessProcess)\n",
      "some(ce4, bfo:hasOccurrentPart, c3)\n",
      "class(c5, iof:SellingBusinessProcess)\n",
      "class(c6, iof:SupplyingBusinessProcess)\n",
      "union(ce7, '[\"c5\", \"c6\"]')\n",
      "some(ce8, bfo:hasOccurrentPart, ce7)\n",
      "intersection(ce9, '[\"c2\", \"ce4\", \"ce8\"]')\n",
      "equivalent(c1, ce9)\n",
      "@enduml\n"
     ]
    }
   ],
   "source": [
    "from owlready2 import get_ontology\n",
    "from translator import axiom_to_puml\n",
    "# Example Usage: [ProcuringBusinessProcess,MaterialArtifact, PieceOfEquipment], [MeasurementInformationContentEntity]\n",
    "input = \"ProcuringBusinessProcess\"\n",
    "iofonto = get_ontology(\"https://spec.industrialontologies.org/ontology/core/Core/\").load()\n",
    "axiom_result = axiom_to_puml(input, iofonto, save_puml = True,type = 1)\n",
    "print(axiom_result)"
   ]
  },
  {
   "cell_type": "code",
   "execution_count": 39,
   "metadata": {},
   "outputs": [
    {
     "name": "stdout",
     "output_type": "stream",
     "text": [
      "None\n",
      "eq Core.BusinessProcess & obo.BFO_0000117.some(Core.BuyingBusinessProcess) & obo.BFO_0000117.some(Core.SellingBusinessProcess | Core.SupplyingBusinessProcess)\n",
      "Core.BusinessProcess\n",
      "<generator object EntityClass.disjoints at 0x10c6507b0>\n"
     ]
    }
   ],
   "source": [
    "from translator import axiom2puml\n",
    "\n",
    "entity = iofonto[input]\n",
    "print(axiom2puml.get_axiom(input, iofonto, 2))\n",
    "\n",
    "print('eq',iofonto[input].equivalent_to[0])\n",
    "\n",
    "gcas = list(iofonto.general_class_axioms())\n",
    "for gca in gcas:\n",
    "    if gca.is_a[0] == getattr(iofonto, input):\n",
    "        print('gca',gca.left_side)\n",
    "    else:\n",
    "        pass\n",
    "# sub_class            \n",
    "print(iofonto[input].is_a[0])\n",
    "# disjoints\n",
    "print(iofonto[input].disjoints())\n",
    "\n"
   ]
  }
 ],
 "metadata": {
  "kernelspec": {
   "display_name": "ontopuml",
   "language": "python",
   "name": "python3"
  },
  "language_info": {
   "codemirror_mode": {
    "name": "ipython",
    "version": 3
   },
   "file_extension": ".py",
   "mimetype": "text/x-python",
   "name": "python",
   "nbconvert_exporter": "python",
   "pygments_lexer": "ipython3",
   "version": "3.9.21"
  }
 },
 "nbformat": 4,
 "nbformat_minor": 2
}
